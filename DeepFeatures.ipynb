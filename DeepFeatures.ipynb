{
 "cells": [
  {
   "cell_type": "markdown",
   "metadata": {},
   "source": [
    "# Classification using Deep Learning based features"
   ]
  },
  {
   "cell_type": "markdown",
   "metadata": {},
   "source": [
    "In this part of the assignment you will be implementing standard classifcation techiniques on features extracted by deep \n",
    "Convolutional Neural Networks. You will then be using these features for classifying different gestures. We will be using the\n",
    "features extracted by the fc-7 layer of the  Alex-Net Neural Network. The dimensions of each feature will be 4096. \n",
    "\n"
   ]
  },
  {
   "cell_type": "markdown",
   "metadata": {},
   "source": [
    "### Step 1:-  Loading the data "
   ]
  },
  {
   "cell_type": "markdown",
   "metadata": {},
   "source": [
    "You have been provided with four files that contain the training and testing features and the training and testing data . These files are :\n",
    "\n",
    "1) 'deep_test_features.h5':- This file contains all the features that are required for testing the performance of your model.\n",
    "\n",
    "2) 'deep_training_features.h5':- This file contains all the features that you will be using to train your classifcation model\n",
    "\n",
    "3) 'deep_training_labels.h5':- This file contains the labels for  all the training features\n",
    "\n",
    "4) 'deep_test_labels.h5':- This file contains the labels for all the test features\n",
    "\n",
    "Task :- Your task is to load these files and convert them into suitable numpy arrays. \n",
    "The data is in the Hdf5 format. A good tutorial on reading Hdf5 data is available here. By the end of the block you should have four variables. \n",
    "\n",
    "X_train :- contains the training Features\n",
    "\n",
    "Y_train:- Contain the training Labels\n",
    "\n",
    "X_test:- Contains the test data\n",
    "\n",
    "Y_test:- Contains the test labels \n",
    "\n",
    "You must print the shape of the each of the four variables. The corresponding shapes are :\n",
    "\n",
    "X_train (3770L, 4096L)\n",
    "\n",
    "Y_train (3770L,)\n",
    "\n",
    "X_test (4096L, 1612L)\n",
    "\n",
    "Y_test (1612L,)\n",
    "\n",
    "Hint:- use numpy.shape\n",
    "\n"
   ]
  },
  {
   "cell_type": "code",
   "execution_count": 6,
   "metadata": {},
   "outputs": [
    {
     "name": "stdout",
     "output_type": "stream",
     "text": [
      "(3770, 4096)\n",
      "(3770,)\n",
      "(1612, 4096)\n",
      "(1612,)\n"
     ]
    }
   ],
   "source": [
    "import h5py    \n",
    "import numpy as np\n",
    "# Your code starts here\n",
    "'''\n",
    "\n",
    "'''\n",
    "hf = h5py.File('deep_training_features.h5', 'r')\n",
    "X_train=hf['trainingFeatures'][:]\n",
    "\n",
    "hf = h5py.File('deep_training_labels.h5', 'r')\n",
    "Y_train=hf['trainLabels'][:]\n",
    "\n",
    "hf = h5py.File('deep_test_features.h5', 'r')\n",
    "X_test=hf['testFeatures'][:].transpose() # transpose array\n",
    "\n",
    "hf = h5py.File('deep_test_labels.h5', 'r')\n",
    "Y_test=hf['testLabels'][:]\n",
    "\n",
    "\n",
    "print(X_train.shape)\n",
    "print(Y_train.shape)\n",
    "print(X_test.shape)\n",
    "print(Y_test.shape)"
   ]
  },
  {
   "cell_type": "markdown",
   "metadata": {},
   "source": [
    "#### 2. Support Vector Machine (SVM)"
   ]
  },
  {
   "cell_type": "markdown",
   "metadata": {},
   "source": [
    "You will be implmenting a linear Support Vector Machine in this Section. Your task is \n",
    "\n",
    "1) Train a linear Support Vector Machine on the training data.\n",
    "\n",
    "2) Test your model to predict the scores of the test data and store it in a variable svm_pred \n",
    "\n",
    "Hint:- you might want to look at the library sklearn to see how svm works \n",
    "\n",
    "\n",
    "\n"
   ]
  },
  {
   "cell_type": "code",
   "execution_count": 7,
   "metadata": {
    "collapsed": true
   },
   "outputs": [],
   "source": [
    "# your code starts here \n",
    "from sklearn import svm\n",
    "clf = svm.LinearSVC()\n",
    "\n",
    "# Train your SVM \n",
    "clf.fit(X_train, Y_train)\n",
    "\n",
    "# Predict the scores and store them in a variable svm_pred\n",
    "svm_pred=clf.predict(X_test)\n",
    "\n",
    "#check values\n",
    "#print(svm_pred)\n",
    "#print(Y_test)"
   ]
  },
  {
   "cell_type": "markdown",
   "metadata": {},
   "source": [
    "##### 2.2 Evaluating SVM "
   ]
  },
  {
   "cell_type": "markdown",
   "metadata": {},
   "source": [
    "You will be evluating SVM in this part of your code. You will be three differnt metrics to evaluate SVM. You will make use of svm_pred and Y_test to calculate these measures.\n",
    "\n",
    "1) Accuracy :- Print the value of the accuracy of your model.\n",
    "\n",
    "2) Confusion Matrix:- Print the confusion matrix for your data. \n",
    "\n",
    "3) ROC characteristic :- You will plot the ROC characteristic of the data. Since ROC characteristics can only be plotted for binary class scenario. You will take into consideration the first class with label 1 as one class . All other classes will be treated as the second class. \n",
    "\n",
    "Hint :- Take a look at sklearn.metrics"
   ]
  },
  {
   "cell_type": "code",
   "execution_count": 8,
   "metadata": {},
   "outputs": [
    {
     "name": "stdout",
     "output_type": "stream",
     "text": [
      "0.97952853598\n",
      "[[59  0  0  0  0  0  0  0  0  0  0  0  3  0  0  0  0  0  0  0  0  0  0  0\n",
      "   0  0]\n",
      " [ 0 62  0  0  0  0  0  0  0  0  0  0  0  0  0  0  0  0  0  0  0  0  0  0\n",
      "   0  0]\n",
      " [ 0  0 62  0  0  0  0  0  0  0  0  0  0  0  0  0  0  0  0  0  0  0  0  0\n",
      "   0  0]\n",
      " [ 0  0  0 62  0  0  0  0  0  0  0  0  0  0  0  0  0  0  0  0  0  0  0  0\n",
      "   0  0]\n",
      " [ 0  0  0  0 62  0  0  0  0  0  0  0  0  0  0  0  0  0  0  0  0  0  0  0\n",
      "   0  0]\n",
      " [ 0  0  0  0  0 32  0  0  0  0  0  0 30  0  0  0  0  0  0  0  0  0  0  0\n",
      "   0  0]\n",
      " [ 0  0  0  0  0  0 62  0  0  0  0  0  0  0  0  0  0  0  0  0  0  0  0  0\n",
      "   0  0]\n",
      " [ 0  0  0  0  0  0  0 62  0  0  0  0  0  0  0  0  0  0  0  0  0  0  0  0\n",
      "   0  0]\n",
      " [ 0  0  0  0  0  0  0  0 62  0  0  0  0  0  0  0  0  0  0  0  0  0  0  0\n",
      "   0  0]\n",
      " [ 0  0  0  0  0  0  0  0  0 62  0  0  0  0  0  0  0  0  0  0  0  0  0  0\n",
      "   0  0]\n",
      " [ 0  0  0  0  0  0  0  0  0  0 62  0  0  0  0  0  0  0  0  0  0  0  0  0\n",
      "   0  0]\n",
      " [ 0  0  0  0  0  0  0  0  0  0  0 62  0  0  0  0  0  0  0  0  0  0  0  0\n",
      "   0  0]\n",
      " [ 0  0  0  0  0  0  0  0  0  0  0  0 62  0  0  0  0  0  0  0  0  0  0  0\n",
      "   0  0]\n",
      " [ 0  0  0  0  0  0  0  0  0  0  0  0  0 62  0  0  0  0  0  0  0  0  0  0\n",
      "   0  0]\n",
      " [ 0  0  0  0  0  0  0  0  0  0  0  0  0  0 62  0  0  0  0  0  0  0  0  0\n",
      "   0  0]\n",
      " [ 0  0  0  0  0  0  0  0  0  0  0  0  0  0  0 62  0  0  0  0  0  0  0  0\n",
      "   0  0]\n",
      " [ 0  0  0  0  0  0  0  0  0  0  0  0  0  0  0  0 62  0  0  0  0  0  0  0\n",
      "   0  0]\n",
      " [ 0  0  0  0  0  0  0  0  0  0  0  0  0  0  0  0  0 62  0  0  0  0  0  0\n",
      "   0  0]\n",
      " [ 0  0  0  0  0  0  0  0  0  0  0  0  0  0  0  0  0  0 62  0  0  0  0  0\n",
      "   0  0]\n",
      " [ 0  0  0  0  0  0  0  0  0  0  0  0  0  0  0  0  0  0  0 62  0  0  0  0\n",
      "   0  0]\n",
      " [ 0  0  0  0  0  0  0  0  0  0  0  0  0  0  0  0  0  0  0  0 62  0  0  0\n",
      "   0  0]\n",
      " [ 0  0  0  0  0  0  0  0  0  0  0  0  0  0  0  0  0  0  0  0  0 62  0  0\n",
      "   0  0]\n",
      " [ 0  0  0  0  0  0  0  0  0  0  0  0  0  0  0  0  0  0  0  0  0  0 62  0\n",
      "   0  0]\n",
      " [ 0  0  0  0  0  0  0  0  0  0  0  0  0  0  0  0  0  0  0  0  0  0  0 62\n",
      "   0  0]\n",
      " [ 0  0  0  0  0  0  0  0  0  0  0  0  0  0  0  0  0  0  0  0  0  0  0  0\n",
      "  62  0]\n",
      " [ 0  0  0  0  0  0  0  0  0  0  0  0  0  0  0  0  0  0  0  0  0  0  0  0\n",
      "   0 62]]\n"
     ]
    },
    {
     "data": {
      "image/png": "[encoded data removed]",
      "text/plain": [
       "<matplotlib.figure.Figure at 0x7f88b0894e80>"
      ]
     },
     "metadata": {},
     "output_type": "display_data"
    }
   ],
   "source": [
    "# your code starts here \n",
    "from sklearn.metrics import accuracy_score, confusion_matrix, roc_curve\n",
    "import matplotlib.pyplot as plt\n",
    "\n",
    "# Calculate the accuracy\n",
    "acc = accuracy_score(Y_test, svm_pred)\n",
    "print(acc)\n",
    "\n",
    "# Print the confusion matrix\n",
    "cnf = confusion_matrix(Y_test, svm_pred)\n",
    "print(cnf)\n",
    "\n",
    "# Plot the ROC characteristics\n",
    "fpr, tpr, _ = roc_curve(Y_test, svm_pred, pos_label = 1)\n",
    "\n",
    "plt.plot(fpr, tpr)\n",
    "plt.show()\n"
   ]
  },
  {
   "cell_type": "markdown",
   "metadata": {},
   "source": [
    "#### 3)  Naive Bayes classifier "
   ]
  },
  {
   "cell_type": "markdown",
   "metadata": {},
   "source": [
    "You will be implmenting a Naive Bayes Classifier in this Section. Your task is\n",
    "\n",
    "1) Train a Naive Bayes Classifier on the training data.\n",
    "\n",
    "2) Test your model to predict the scores of the test data and store it in a variable nbc_pred\n",
    "\n",
    "Hint:- sklearn !!! "
   ]
  },
  {
   "cell_type": "code",
   "execution_count": 14,
   "metadata": {
    "collapsed": true
   },
   "outputs": [],
   "source": [
    "# your code starts here \n",
    "from sklearn.naive_bayes import GaussianNB # use Gaussian Naive Bayes\n",
    "nbc = GaussianNB()\n",
    "\n",
    "# Train your Naive Bayes Classifier \n",
    "nbc.fit(X_train, Y_train)\n",
    "\n",
    "# Predict the scores and store them in a variable nbc_pred\n",
    "nbc_pred=nbc.predict(X_test)\n",
    "\n",
    "#check values\n",
    "#print(nbc_pred)\n",
    "#print(Y_test)"
   ]
  },
  {
   "cell_type": "markdown",
   "metadata": {},
   "source": [
    "##### 3.2 Evaluating Naive Bayes Classifier"
   ]
  },
  {
   "cell_type": "markdown",
   "metadata": {},
   "source": [
    "You will be evluating NBC in this part of your code. You will be three differnt metrics to evaluate NBC. You will make use of \n",
    "nbc_pred and Y_test to calculate these measures.\n",
    "\n",
    "1) Accuracy :- Print the value of the accuracy of your model.\n",
    "\n",
    "2) Confusion Matrix:- Print the confusion matrix for your data.\n",
    "\n",
    "3) ROC characteristic :- You will plot the ROC characteristic of the data. Since ROC characteristics can only be plotted for binary class scenario. You will take into consideration the first class with label 1 as one class . All other classes will be treated as the second class.\n",
    "\n",
    "Hint :-  sklearn.metrics"
   ]
  },
  {
   "cell_type": "code",
   "execution_count": 15,
   "metadata": {},
   "outputs": [
    {
     "name": "stdout",
     "output_type": "stream",
     "text": [
      "0.954094292804\n",
      "[[59  0  0  0  0  0  0  0  0  0  3  0  0  0  0  0  0  0  0  0  0  0  0  0\n",
      "   0  0]\n",
      " [ 0 57  0  2  0  0  0  0  0  0  0  0  0  0  0  0  0  0  0  0  0  0  0  3\n",
      "   0  0]\n",
      " [ 0  1 59  2  0  0  0  0  0  0  0  0  0  0  0  0  0  0  0  0  0  0  0  0\n",
      "   0  0]\n",
      " [ 1  3  0 56  0  0  0  0  0  0  0  0  0  0  0  0  0  0  0  0  0  0  0  2\n",
      "   0  0]\n",
      " [ 0  0  0  0 61  1  0  0  0  0  0  0  0  0  0  0  0  0  0  0  0  0  0  0\n",
      "   0  0]\n",
      " [ 0  0  0  0  1 31  0  0  0  0 30  0  0  0  0  0  0  0  0  0  0  0  0  0\n",
      "   0  0]\n",
      " [ 0  0  0  1  0  0 58  0  0  0  0  0  0  0  1  0  0  2  0  0  0  0  0  0\n",
      "   0  0]\n",
      " [ 0  0  0  1  0  0  0 60  0  0  0  0  0  0  0  1  0  0  0  0  0  0  0  0\n",
      "   0  0]\n",
      " [ 0  0  0  0  0  0  0  0 62  0  0  0  0  0  0  0  0  0  0  0  0  0  0  0\n",
      "   0  0]\n",
      " [ 0  0  0  0  0  0  0  0  0 62  0  0  0  0  0  0  0  0  0  0  0  0  0  0\n",
      "   0  0]\n",
      " [ 0  0  0  0  0  0  0  0  0  0 62  0  0  0  0  0  0  0  0  0  0  0  0  0\n",
      "   0  0]\n",
      " [ 0  0  0  0  0  0  0  0  0  0  0 62  0  0  0  0  0  0  0  0  0  0  0  0\n",
      "   0  0]\n",
      " [ 0  0  0  0  0  0  0  0  0  0  0  0 62  0  0  0  0  0  0  0  0  0  0  0\n",
      "   0  0]\n",
      " [ 0  0  0  0  0  1  0  0  0  0  0  0  0 58  0  0  1  2  0  0  0  0  0  0\n",
      "   0  0]\n",
      " [ 0  0  0  0  0  0  0  0  0  0  0  0  0  0 62  0  0  0  0  0  0  0  0  0\n",
      "   0  0]\n",
      " [ 0  0  0  0  0  0  0  0  0  0  0  0  0  0  0 62  0  0  0  0  0  0  0  0\n",
      "   0  0]\n",
      " [ 0  0  0  0  0  0  0  0  0  0  0  0  0  0  0  0 62  0  0  0  0  0  0  0\n",
      "   0  0]\n",
      " [ 0  0  0  0  0  0  0  0  0  0  0  0  0  0  0  0  0 62  0  0  0  0  0  0\n",
      "   0  0]\n",
      " [ 0  0  0  0  0  0  0  0  0  0  0  0  0  0  0  0  0  0 62  0  0  0  0  0\n",
      "   0  0]\n",
      " [ 0  0  0  0  0  0  0  0  0  0  0  0  0  0  0  0  0  0  0 59  0  0  0  3\n",
      "   0  0]\n",
      " [ 0  0  0  1  0  0  0  0  0  0  0  0  0  0  0  0  0  0  0  0 61  0  0  0\n",
      "   0  0]\n",
      " [ 0  0  0  0  0  0  0  0  0  0  0  0  0  0  0  0  0  0  0  0  0 62  0  0\n",
      "   0  0]\n",
      " [ 0  1  0  2  0  0  0  0  0  0  0  0  0  0  0  0  0  1  0  0  0  0 57  1\n",
      "   0  0]\n",
      " [ 0  0  0  1  0  0  0  0  0  0  0  0  0  0  0  0  0  1  0  0  0  0  1 59\n",
      "   0  0]\n",
      " [ 0  0  0  0  0  0  0  0  0  0  0  0  0  0  0  0  0  0  0  0  0  1  0  0\n",
      "  61  0]\n",
      " [ 0  0  0  0  0  0  0  0  0  0  0  0  1  0  1  0  0  0  0  0  0  0  0  0\n",
      "   0 60]]\n"
     ]
    },
    {
     "data": {
      "image/png": "[encoded data removed]",
      "text/plain": [
       "<matplotlib.figure.Figure at 0x7f27fb5180b8>"
      ]
     },
     "metadata": {},
     "output_type": "display_data"
    }
   ],
   "source": [
    "# your code starts here \n",
    "\n",
    "# Calculate the accuracy\n",
    "acc = accuracy_score(Y_test, nbc_pred)\n",
    "print(acc)\n",
    "\n",
    "# Print the confusion matrix\n",
    "cnf = confusion_matrix(Y_test, nbc_pred)\n",
    "print(cnf)\n",
    "\n",
    "# Plot the ROC characteristics\n",
    "fpr, tpr, _ = roc_curve(Y_test, nbc_pred, pos_label = 1)\n",
    "\n",
    "plt.plot(fpr, tpr)\n",
    "plt.show()\n"
   ]
  },
  {
   "cell_type": "markdown",
   "metadata": {},
   "source": [
    "#### 4) K-Nearest Neighbors"
   ]
  },
  {
   "cell_type": "markdown",
   "metadata": {},
   "source": [
    "You will be implmenting a Naive Bayes Classifier in this Section. Your task is\n",
    "\n",
    "1) Train a K-Nerest-Neighbors on the training data.\n",
    "\n",
    "2) Test your model to predict the scores of the test data and store it in a variable knn_pred\n",
    "\n",
    "Hint:- sklearn !!!"
   ]
  },
  {
   "cell_type": "code",
   "execution_count": 16,
   "metadata": {
    "collapsed": true
   },
   "outputs": [],
   "source": [
    "# your code starts here \n",
    "from sklearn.neighbors import KNeighborsClassifier\n",
    "knn = KNeighborsClassifier(n_neighbors = 3)\n",
    "\n",
    "# Train the K-Nearest Neighbors classifier\n",
    "knn.fit(X_train, Y_train)\n",
    "\n",
    "# Predict the scores and store them in a variable knn_pred\n",
    "knn_pred=knn.predict(X_test)\n",
    "\n",
    "#check values\n",
    "#print(knn_pred)\n",
    "#print(Y_test)"
   ]
  },
  {
   "cell_type": "markdown",
   "metadata": {},
   "source": [
    "##### 4.2 Evaluating KNN  "
   ]
  },
  {
   "cell_type": "markdown",
   "metadata": {},
   "source": [
    "You will be evluating KNN in this part of your code. You will be three differnt metrics to evaluate KNN. You will make use of nbc_pred and Y_test to calculate these measures.\n",
    "\n",
    "1) Accuracy :- Print the value of the accuracy of your model.\n",
    "\n",
    "2) Confusion Matrix:- Print the confusion matrix for your data.\n",
    "\n",
    "3) ROC characteristic :- You will plot the ROC characteristic of the data. Since ROC characteristics can only be plotted for binary class scenario. You will take into consideration the first class with label 1 as one class . All other classes will be treated as the second class.\n",
    "\n"
   ]
  },
  {
   "cell_type": "code",
   "execution_count": 17,
   "metadata": {},
   "outputs": [
    {
     "name": "stdout",
     "output_type": "stream",
     "text": [
      "0.978908188586\n",
      "[[59  0  0  0  0  0  0  0  0  0  3  0  0  0  0  0  0  0  0  0  0  0  0  0\n",
      "   0  0]\n",
      " [ 0 62  0  0  0  0  0  0  0  0  0  0  0  0  0  0  0  0  0  0  0  0  0  0\n",
      "   0  0]\n",
      " [ 0  0 61  1  0  0  0  0  0  0  0  0  0  0  0  0  0  0  0  0  0  0  0  0\n",
      "   0  0]\n",
      " [ 0  0  0 62  0  0  0  0  0  0  0  0  0  0  0  0  0  0  0  0  0  0  0  0\n",
      "   0  0]\n",
      " [ 0  0  0  0 62  0  0  0  0  0  0  0  0  0  0  0  0  0  0  0  0  0  0  0\n",
      "   0  0]\n",
      " [ 0  0  0  0  0 32  0  0  0  0 30  0  0  0  0  0  0  0  0  0  0  0  0  0\n",
      "   0  0]\n",
      " [ 0  0  0  0  0  0 62  0  0  0  0  0  0  0  0  0  0  0  0  0  0  0  0  0\n",
      "   0  0]\n",
      " [ 0  0  0  0  0  0  0 62  0  0  0  0  0  0  0  0  0  0  0  0  0  0  0  0\n",
      "   0  0]\n",
      " [ 0  0  0  0  0  0  0  0 62  0  0  0  0  0  0  0  0  0  0  0  0  0  0  0\n",
      "   0  0]\n",
      " [ 0  0  0  0  0  0  0  0  0 62  0  0  0  0  0  0  0  0  0  0  0  0  0  0\n",
      "   0  0]\n",
      " [ 0  0  0  0  0  0  0  0  0  0 62  0  0  0  0  0  0  0  0  0  0  0  0  0\n",
      "   0  0]\n",
      " [ 0  0  0  0  0  0  0  0  0  0  0 62  0  0  0  0  0  0  0  0  0  0  0  0\n",
      "   0  0]\n",
      " [ 0  0  0  0  0  0  0  0  0  0  0  0 62  0  0  0  0  0  0  0  0  0  0  0\n",
      "   0  0]\n",
      " [ 0  0  0  0  0  0  0  0  0  0  0  0  0 62  0  0  0  0  0  0  0  0  0  0\n",
      "   0  0]\n",
      " [ 0  0  0  0  0  0  0  0  0  0  0  0  0  0 62  0  0  0  0  0  0  0  0  0\n",
      "   0  0]\n",
      " [ 0  0  0  0  0  0  0  0  0  0  0  0  0  0  0 62  0  0  0  0  0  0  0  0\n",
      "   0  0]\n",
      " [ 0  0  0  0  0  0  0  0  0  0  0  0  0  0  0  0 62  0  0  0  0  0  0  0\n",
      "   0  0]\n",
      " [ 0  0  0  0  0  0  0  0  0  0  0  0  0  0  0  0  0 62  0  0  0  0  0  0\n",
      "   0  0]\n",
      " [ 0  0  0  0  0  0  0  0  0  0  0  0  0  0  0  0  0  0 62  0  0  0  0  0\n",
      "   0  0]\n",
      " [ 0  0  0  0  0  0  0  0  0  0  0  0  0  0  0  0  0  0  0 62  0  0  0  0\n",
      "   0  0]\n",
      " [ 0  0  0  0  0  0  0  0  0  0  0  0  0  0  0  0  0  0  0  0 62  0  0  0\n",
      "   0  0]\n",
      " [ 0  0  0  0  0  0  0  0  0  0  0  0  0  0  0  0  0  0  0  0  0 62  0  0\n",
      "   0  0]\n",
      " [ 0  0  0  0  0  0  0  0  0  0  0  0  0  0  0  0  0  0  0  0  0  0 62  0\n",
      "   0  0]\n",
      " [ 0  0  0  0  0  0  0  0  0  0  0  0  0  0  0  0  0  0  0  0  0  0  0 62\n",
      "   0  0]\n",
      " [ 0  0  0  0  0  0  0  0  0  0  0  0  0  0  0  0  0  0  0  0  0  0  0  0\n",
      "  62  0]\n",
      " [ 0  0  0  0  0  0  0  0  0  0  0  0  0  0  0  0  0  0  0  0  0  0  0  0\n",
      "   0 62]]\n"
     ]
    },
    {
     "data": {
      "image/png": "[encoded data removed]",
      "text/plain": [
       "<matplotlib.figure.Figure at 0x7f27fb411400>"
      ]
     },
     "metadata": {},
     "output_type": "display_data"
    }
   ],
   "source": [
    "# your code starts here \n",
    "\n",
    "# Calculate the accuracy\n",
    "acc = accuracy_score(Y_test, knn_pred)\n",
    "print(acc)\n",
    "\n",
    "# Print the confusion matrix\n",
    "cnf = confusion_matrix(Y_test, knn_pred)\n",
    "print(cnf)\n",
    "\n",
    "# Plot the ROC characteristics\n",
    "fpr, tpr, _ = roc_curve(Y_test, knn_pred, pos_label = 1)\n",
    "\n",
    "plt.plot(fpr, tpr)\n",
    "plt.show()"
   ]
  },
  {
   "cell_type": "code",
   "execution_count": null,
   "metadata": {
    "collapsed": true
   },
   "outputs": [],
   "source": []
  }
 ],
 "metadata": {
  "kernelspec": {
   "display_name": "Python 3",
   "language": "python",
   "name": "python3"
  },
  "language_info": {
   "codemirror_mode": {
    "name": "ipython",
    "version": 3
   },
   "file_extension": ".py",
   "mimetype": "text/x-python",
   "name": "python",
   "nbconvert_exporter": "python",
   "pygments_lexer": "ipython3",
   "version": "3.6.1"
  }
 },
 "nbformat": 4,
 "nbformat_minor": 2
}
