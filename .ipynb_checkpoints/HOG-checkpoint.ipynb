{
 "cells": [
  {
   "cell_type": "markdown",
   "metadata": {},
   "source": [
    "# Classification using Histograms of Oriented Gradients"
   ]
  },
  {
   "cell_type": "markdown",
   "metadata": {},
   "source": [
    "In this part of the assignment you will be implementing standard classifcation techiniques on features extracted by the Histogram of Oriented Gradients (HOG) classifier.\n",
    "\n"
   ]
  },
  {
   "cell_type": "markdown",
   "metadata": {},
   "source": [
    "### Step 1:-  Loading the data "
   ]
  },
  {
   "cell_type": "markdown",
   "metadata": {},
   "source": [
    "You have been provided with four files that contain the training and testing features and the training and testing data . These files are :\n",
    "\n",
    "1) 'hog_test_features.h5':- This file contains all the features that are required for testing the performance of your model.\n",
    "\n",
    "2) 'hog_training_features.h5':- This file contains all the features that you will be using to train your classifcation model\n",
    "\n",
    "3) 'hog_training_labels.h5':- This file contains the labels for  all the training features\n",
    "\n",
    "4) 'hog_test_labels.h5':- This file contains the labels for all the test features\n",
    "\n",
    "Task :- Your task is to load these files and convert them into suitable numpy arrays. \n",
    "The data is in the Hdf5 format. A good tutorial on reading Hdf5 data is available here. By the end of the block you should have four variables. \n",
    "\n",
    "X_train :- contains the training Features\n",
    "\n",
    "Y_train:- Contain the training Labels\n",
    "\n",
    "X_test:- Contains the test data\n",
    "\n",
    "Y_test:- Contains the test labels \n",
    "\n",
    "You must print the shape of the each of the four variables. \n",
    "\n",
    "\n",
    "\n",
    "Hint:- use numpy.shape\n",
    "\n"
   ]
  },
  {
   "cell_type": "code",
   "execution_count": null,
   "metadata": {
    "collapsed": true
   },
   "outputs": [],
   "source": [
    "import h5py    \n",
    "import numpy as np\n",
    "# Your code starts here\n",
    "'''\n",
    "\n",
    "'''\n",
    "\n",
    "\n",
    "\n",
    "X_train=None \n",
    "Y_train=None\n",
    "X_test=None\n",
    "Y_test=None\n",
    "\n",
    "\n",
    "print (X_train.shape)\n",
    "print (Y_train.shape)\n",
    "print(X_test.shape)\n",
    "print(Y_test.shape)"
   ]
  },
  {
   "cell_type": "markdown",
   "metadata": {},
   "source": [
    "#### 2. Support Vector Machine (SVM)"
   ]
  },
  {
   "cell_type": "markdown",
   "metadata": {},
   "source": [
    "You will be implmenting a linear Support Vector Machine in this Section. Your task is \n",
    "\n",
    "1) Train a linear Support Vector Machine on the training data.\n",
    "\n",
    "2) Test your model to predict the scores of the test data and store it in a variable svm_pred \n",
    "\n",
    "Hint:- you might want to look at the library sklearn to see how svm works \n",
    "\n",
    "\n",
    "\n"
   ]
  },
  {
   "cell_type": "code",
   "execution_count": 41,
   "metadata": {
    "collapsed": true
   },
   "outputs": [],
   "source": [
    "# your code starts here \n",
    "\n",
    "\n",
    "# Train your SVM \n",
    "\n",
    "# Predict the scores and store them in a variable svm_pred\n",
    "\n",
    "svm_pred=None"
   ]
  },
  {
   "cell_type": "markdown",
   "metadata": {},
   "source": [
    "##### 2.2 Evaluating SVM "
   ]
  },
  {
   "cell_type": "markdown",
   "metadata": {},
   "source": [
    "You will be evluating SVM in this part of your code. You will be three differnt metrics to evaluate SVM. You will make use of svm_pred and Y_test to calculate these measures.\n",
    "\n",
    "1) Accuracy :- Print the value of the accuracy of your model.\n",
    "\n",
    "2) Confusion Matrix:- Print the confusion matrix for your data. \n",
    "\n",
    "3) ROC characteristic :- You will plot the ROC characteristic of the data. Since ROC characteristics can only be plotted for binary class scenario. You will take into consideration the first class with label 1 as one class . All other classes will be treated as the second class. \n",
    "\n",
    "Hint :- Take a look at sklearn.metrics"
   ]
  },
  {
   "cell_type": "code",
   "execution_count": null,
   "metadata": {
    "collapsed": true
   },
   "outputs": [],
   "source": [
    "# your code starts here \n",
    "\n",
    "# Claculate the accuracy\n",
    "\n",
    "# Print the confusion matrix\n",
    "\n",
    "\n",
    "# Plot the ROC characteristics\n",
    "\n"
   ]
  },
  {
   "cell_type": "markdown",
   "metadata": {},
   "source": [
    "#### 3)  Naive Bayes classifier "
   ]
  },
  {
   "cell_type": "markdown",
   "metadata": {},
   "source": [
    "You will be implmenting a Naive Bayes Classifier in this Section. Your task is\n",
    "\n",
    "1) Train a Naive Bayes Classifier on the training data.\n",
    "\n",
    "2) Test your model to predict the scores of the test data and store it in a variable nbc_pred\n",
    "\n",
    "Hint:- sklearn !!! "
   ]
  },
  {
   "cell_type": "code",
   "execution_count": 49,
   "metadata": {
    "collapsed": true
   },
   "outputs": [],
   "source": [
    "# your code starts here \n",
    "\n",
    "\n",
    "# Train your Naive Bayes Classifier \n",
    "\n",
    "# Predict the scores and store them in a variable nbc_pred\n",
    "\n",
    "nbc_pred=None"
   ]
  },
  {
   "cell_type": "markdown",
   "metadata": {},
   "source": [
    "##### 3.2 Evaluating Naive Bayes Classifier"
   ]
  },
  {
   "cell_type": "markdown",
   "metadata": {},
   "source": [
    "You will be evluating NBC in this part of your code. You will be three differnt metrics to evaluate NBC. You will make use of \n",
    "nbc_pred and Y_test to calculate these measures.\n",
    "\n",
    "1) Accuracy :- Print the value of the accuracy of your model.\n",
    "\n",
    "2) Confusion Matrix:- Print the confusion matrix for your data.\n",
    "\n",
    "3) ROC characteristic :- You will plot the ROC characteristic of the data. Since ROC characteristics can only be plotted for binary class scenario. You will take into consideration the first class with label 1 as one class . All other classes will be treated as the second class.\n",
    "\n",
    "Hint :-  sklearn.metrics"
   ]
  },
  {
   "cell_type": "code",
   "execution_count": null,
   "metadata": {
    "collapsed": true
   },
   "outputs": [],
   "source": [
    "# your code starts here \n",
    "\n",
    "# Claculate the accuracy\n",
    "\n",
    "# Print the confusion matrix\n",
    "\n",
    "\n",
    "# Plot the ROC characteristics\n"
   ]
  },
  {
   "cell_type": "markdown",
   "metadata": {},
   "source": [
    "#### 4) K-Nearest Neighbors"
   ]
  },
  {
   "cell_type": "markdown",
   "metadata": {},
   "source": [
    "You will be implmenting a Naive Bayes Classifier in this Section. Your task is\n",
    "\n",
    "1) Train a K-Nerest-Neighbors on the training data.\n",
    "\n",
    "2) Test your model to predict the scores of the test data and store it in a variable knn_pred\n",
    "\n",
    "Hint:- sklearn !!!"
   ]
  },
  {
   "cell_type": "code",
   "execution_count": 51,
   "metadata": {
    "collapsed": true
   },
   "outputs": [],
   "source": [
    "# your code starts here \n",
    "\n",
    "\n",
    "# Train your Naive Bayes Classifier \n",
    "\n",
    "# Predict the scores and store them in a variable knn_pred\n",
    "\n",
    "knn_pred=None"
   ]
  },
  {
   "cell_type": "markdown",
   "metadata": {},
   "source": [
    "##### 4.2 Evaluating KNN  "
   ]
  },
  {
   "cell_type": "markdown",
   "metadata": {},
   "source": [
    "You will be evluating KNN in this part of your code. You will be three differnt metrics to evaluate KNN. You will make use of nbc_pred and Y_test to calculate these measures.\n",
    "\n",
    "1) Accuracy :- Print the value of the accuracy of your model.\n",
    "\n",
    "2) Confusion Matrix:- Print the confusion matrix for your data.\n",
    "\n",
    "3) ROC characteristic :- You will plot the ROC characteristic of the data. Since ROC characteristics can only be plotted for binary class scenario. You will take into consideration the first class with label 1 as one class . All other classes will be treated as the second class.\n",
    "\n"
   ]
  },
  {
   "cell_type": "code",
   "execution_count": null,
   "metadata": {
    "collapsed": true
   },
   "outputs": [],
   "source": [
    "# your code starts here \n",
    "\n",
    "# Claculate the accuracy\n",
    "\n",
    "# Print the confusion matrix\n",
    "\n",
    "\n",
    "# Plot the ROC characteristics"
   ]
  },
  {
   "cell_type": "markdown",
   "metadata": {
    "collapsed": true
   },
   "source": [
    "#### 5) Cross Validation for SVM "
   ]
  },
  {
   "cell_type": "markdown",
   "metadata": {},
   "source": [
    "Sometimes, due to lavk of enough training and test data. The training data is split into k-folds. Out of the k folds k-1 are used for training the data and one fold is used for testing the model. The process is carried out untill all the k-folds are not\n",
    "used for evaluating the performance of the model. This process is know as k-fold cross validation. In this section you will be performing a 5-fold cross validation and report the accuracy of the model after 5 fold cross validation. \n",
    "\n",
    "Note: The test data is not required in this case. You will work only on the training data. "
   ]
  },
  {
   "cell_type": "code",
   "execution_count": 3,
   "metadata": {
    "collapsed": true
   },
   "outputs": [],
   "source": [
    "# Your Code starts here \n",
    "\n",
    "\n",
    "\n",
    "#Perform 5 -fold validation \n",
    "\n",
    "\n",
    "# Report the accuracy of the model \n"
   ]
  },
  {
   "cell_type": "code",
   "execution_count": null,
   "metadata": {
    "collapsed": true
   },
   "outputs": [],
   "source": []
  }
 ],
 "metadata": {
  "kernelspec": {
   "display_name": "Python 3",
   "language": "python",
   "name": "python3"
  },
  "language_info": {
   "codemirror_mode": {
    "name": "ipython",
    "version": 3
   },
   "file_extension": ".py",
   "mimetype": "text/x-python",
   "name": "python",
   "nbconvert_exporter": "python",
   "pygments_lexer": "ipython3",
   "version": "3.6.1"
  }
 },
 "nbformat": 4,
 "nbformat_minor": 2
}
