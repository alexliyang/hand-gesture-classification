{
 "cells": [
  {
   "cell_type": "markdown",
   "metadata": {},
   "source": [
    "# Classification using Histograms of Oriented Gradients"
   ]
  },
  {
   "cell_type": "markdown",
   "metadata": {},
   "source": [
    "In this part of the assignment you will be implementing standard classifcation techiniques on features extracted by the Histogram of Oriented Gradients (HOG) classifier.\n",
    "\n"
   ]
  },
  {
   "cell_type": "markdown",
   "metadata": {},
   "source": [
    "### Step 1:-  Loading the data "
   ]
  },
  {
   "cell_type": "markdown",
   "metadata": {},
   "source": [
    "You have been provided with four files that contain the training and testing features and the training and testing data . These files are :\n",
    "\n",
    "1) 'hog_test_features.h5':- This file contains all the features that are required for testing the performance of your model.\n",
    "\n",
    "2) 'hog_training_features.h5':- This file contains all the features that you will be using to train your classifcation model\n",
    "\n",
    "3) 'hog_training_labels.h5':- This file contains the labels for  all the training features\n",
    "\n",
    "4) 'hog_test_labels.h5':- This file contains the labels for all the test features\n",
    "\n",
    "Task :- Your task is to load these files and convert them into suitable numpy arrays. \n",
    "The data is in the Hdf5 format. A good tutorial on reading Hdf5 data is available here. By the end of the block you should have four variables. \n",
    "\n",
    "X_train :- contains the training Features\n",
    "\n",
    "Y_train:- Contain the training Labels\n",
    "\n",
    "X_test:- Contains the test data\n",
    "\n",
    "Y_test:- Contains the test labels \n",
    "\n",
    "You must print the shape of the each of the four variables. \n",
    "\n",
    "\n",
    "\n",
    "Hint:- use numpy.shape\n",
    "\n"
   ]
  },
  {
   "cell_type": "code",
   "execution_count": 47,
   "metadata": {},
   "outputs": [
    {
     "name": "stdout",
     "output_type": "stream",
     "text": [
      "(3770, 59)\n",
      "(3770,)\n",
      "(1612, 59)\n",
      "(1612,)\n"
     ]
    }
   ],
   "source": [
    "import h5py    \n",
    "import numpy as np\n",
    "# Your code starts here\n",
    "'''\n",
    "read the h5 files\n",
    "'''\n",
    "\n",
    "# dataset = 'trainingFeatures'\n",
    "hf = h5py.File('hog_training_features.h5', 'r')\n",
    "X_train=hf['trainingFeatures'][:].transpose() # transpose array\n",
    "\n",
    "# dataset = 'trainingLabels'\n",
    "hf = h5py.File('hog_training_labels.h5', 'r')\n",
    "Y_train=hf['trainingLabels'][:]\n",
    "\n",
    "# dataset = 'testFeatures'\n",
    "hf = h5py.File('hog_test_features.h5', 'r')\n",
    "X_test=hf['testFeatures'][:].transpose() # transpose array\n",
    "\n",
    "# dataset = 'testLables'\n",
    "hf = h5py.File('hog_test_Labels.h5', 'r')\n",
    "Y_test=hf['testLables'][:]\n",
    "\n",
    "#print(list(hf.values()))\n",
    "\n",
    "print (X_train.shape)\n",
    "print (Y_train.shape)\n",
    "print(X_test.shape)\n",
    "print(Y_test.shape)"
   ]
  },
  {
   "cell_type": "markdown",
   "metadata": {},
   "source": [
    "#### 2. Support Vector Machine (SVM)"
   ]
  },
  {
   "cell_type": "markdown",
   "metadata": {},
   "source": [
    "You will be implmenting a linear Support Vector Machine in this Section. Your task is \n",
    "\n",
    "1) Train a linear Support Vector Machine on the training data.\n",
    "\n",
    "2) Test your model to predict the scores of the test data and store it in a variable svm_pred \n",
    "\n",
    "Hint:- you might want to look at the library sklearn to see how svm works \n",
    "\n",
    "\n",
    "\n"
   ]
  },
  {
   "cell_type": "code",
   "execution_count": 122,
   "metadata": {},
   "outputs": [],
   "source": [
    "# your code starts here \n",
    "from sklearn import svm\n",
    "clf = svm.SVC()\n",
    "\n",
    "# Train your SVM \n",
    "clf.fit(X_train, Y_train)\n",
    "\n",
    "# Predict the scores and store them in a variable svm_pred\n",
    "svm_pred=clf.predict(X_test)\n",
    "\n",
    "#check values\n",
    "#print(svm_pred)\n",
    "#print(Y_test)"
   ]
  },
  {
   "cell_type": "markdown",
   "metadata": {},
   "source": [
    "##### 2.2 Evaluating SVM "
   ]
  },
  {
   "cell_type": "markdown",
   "metadata": {},
   "source": [
    "You will be evluating SVM in this part of your code. You will be three differnt metrics to evaluate SVM. You will make use of svm_pred and Y_test to calculate these measures.\n",
    "\n",
    "1) Accuracy :- Print the value of the accuracy of your model.\n",
    "\n",
    "2) Confusion Matrix:- Print the confusion matrix for your data. \n",
    "\n",
    "3) ROC characteristic :- You will plot the ROC characteristic of the data. Since ROC characteristics can only be plotted for binary class scenario. You will take into consideration the first class with label 1 as one class . All other classes will be treated as the second class. \n",
    "\n",
    "Hint :- Take a look at sklearn.metrics"
   ]
  },
  {
   "cell_type": "code",
   "execution_count": 89,
   "metadata": {},
   "outputs": [
    {
     "name": "stdout",
     "output_type": "stream",
     "text": [
      "0.65570719603\n",
      "[[59  1  0  0  0  0  0  0  0  2  0  0  0  0  0  0  0  0  0  0  0  0  0  0\n",
      "   0  0]\n",
      " [14 14  0  8  0  0  2  0  0 15  0  2  2  0  1  0  0  0  0  3  0  0  1  0\n",
      "   0  0]\n",
      " [ 0  2 12  6  3  1  0  2  1  1  0 21  3  0  1  0  0  0  0  2  6  0  0  0\n",
      "   1  0]\n",
      " [ 4  9  7 17  3  1  2  0  0  8  0  0  5  0  1  0  0  0  0  0  3  0  1  1\n",
      "   0  0]\n",
      " [ 0  0  0  3 42  5  0  0  0  3  0  0  1  0  0  1  0  0  1  1  2  0  3  0\n",
      "   0  0]\n",
      " [ 0  0  0  0  2 47  0  0  0  0  0  0  0  0  0  0  2  1  1  0  6  0  2  0\n",
      "   0  1]\n",
      " [ 3  1  0  0  1  0 45  0  0  0  0  0  0  0  0  0  0  0 12  0  0  0  0  0\n",
      "   0  0]\n",
      " [ 1  0  0  3  0  0  0 42  0  0  0  0  0  0  4  0  0  0  0  2  4  0  1  2\n",
      "   3  0]\n",
      " [ 0  0  0  0  0  0  0  1 57  0  0  3  0  0  0  0  0  0  0  0  1  0  0  0\n",
      "   0  0]\n",
      " [ 1  2  0  0  0  0  0  0  0 57  0  0  2  0  0  0  0  0  0  0  0  0  0  0\n",
      "   0  0]\n",
      " [ 1  0  0  0  0  0  0  0  0  1 55  0  0  0  0  0  0  0  0  0  5  0  0  0\n",
      "   0  0]\n",
      " [ 6  0  0  0  0  0  0  0  1  0  0 55  0  0  0  0  0  0  0  0  0  0  0  0\n",
      "   0  0]\n",
      " [ 0  0  0  1  7 14  0  2  0  5  1  0 28  0  0  1  0  0  0  1  0  0  1  0\n",
      "   1  0]\n",
      " [ 2  1  0  0  1 26  1  3  0  0  0  0  2 13  0  3  0  0  1  6  2  0  1  0\n",
      "   0  0]\n",
      " [ 0  3  2  3  0  0  0  4  0  0  0  6  1  0 27  0  0  0  0  0 15  0  1  0\n",
      "   0  0]\n",
      " [ 0  0  0  0  1  1  0  4  0  1  0  0  2  0  0 52  0  0  0  0  0  0  1  0\n",
      "   0  0]\n",
      " [ 0  0  1  2  0  1  1  7  2  0  0  0  0  0  0  1 47  0  0  0  0  0  0  0\n",
      "   0  0]\n",
      " [ 0  0  0  0  0  9  0  1  1  0  0  0  0  6  0  7  3 28  0  4  2  0  0  0\n",
      "   0  1]\n",
      " [ 0  0  0  0  1  0  0  2  0  0  0  0  0  0  0  1  0  0 58  0  0  0  0  0\n",
      "   0  0]\n",
      " [ 1  0  0  0  0  2  1  5  0  0  0  0  0  0  0  6  0  0  0 47  0  0  0  0\n",
      "   0  0]\n",
      " [ 0  0  0  0  0  0  0  0  1  0  0  0  0  0  2  0  0  0  0  0 59  0  0  0\n",
      "   0  0]\n",
      " [ 0  0  0  0  0  0  0  0  3  0  0  0  0  0  0  0  0  0  0  0  3 56  0  0\n",
      "   0  0]\n",
      " [ 0  0  0  1  3  5  0  1  0  4  0  0  0  1  1  1  0  0  9  0  2  0 29  0\n",
      "   4  1]\n",
      " [ 8  3  0  7  0  2  0  1  0 24  0  0  0  0  2  0  0  0  0  0  5  0  4  6\n",
      "   0  0]\n",
      " [ 6  0  0  0  0  0  0  0  0  0  0  0  0  0  0  0  0  0  0  0  0  0  0  0\n",
      "  56  0]\n",
      " [ 1  0  0  0  0  0  0  0  0  0  0  0  0  0  0  0  0  0  0  0  4  1  0  0\n",
      "   7 49]]\n"
     ]
    },
    {
     "data": {
      "image/png": "[encoded data removed]",
      "text/plain": [
       "<matplotlib.figure.Figure at 0x7f6c4102ecc0>"
      ]
     },
     "metadata": {},
     "output_type": "display_data"
    }
   ],
   "source": [
    "# your code starts here \n",
    "from sklearn.metrics import accuracy_score, confusion_matrix, roc_curve\n",
    "import matplotlib.pyplot as plt\n",
    "\n",
    "# Calculate the accuracy\n",
    "acc = accuracy_score(Y_test, svm_pred)\n",
    "print(acc)\n",
    "\n",
    "# Print the confusion matrix\n",
    "cnf = confusion_matrix(Y_test, svm_pred)\n",
    "print(cnf)\n",
    "\n",
    "# Plot the ROC characteristics\n",
    "fpr, tpr, _ = roc_curve(Y_test, svm_pred, pos_label = 1)\n",
    "\n",
    "plt.plot(fpr, tpr)\n",
    "plt.show()\n"
   ]
  },
  {
   "cell_type": "markdown",
   "metadata": {},
   "source": [
    "#### 3)  Naive Bayes classifier "
   ]
  },
  {
   "cell_type": "markdown",
   "metadata": {},
   "source": [
    "You will be implmenting a Naive Bayes Classifier in this Section. Your task is\n",
    "\n",
    "1) Train a Naive Bayes Classifier on the training data.\n",
    "\n",
    "2) Test your model to predict the scores of the test data and store it in a variable nbc_pred\n",
    "\n",
    "Hint:- sklearn !!! "
   ]
  },
  {
   "cell_type": "code",
   "execution_count": 116,
   "metadata": {
    "collapsed": true
   },
   "outputs": [],
   "source": [
    "# your code starts here \n",
    "from sklearn.naive_bayes import GaussianNB # use Gaussian Naive Bayes\n",
    "nbc = GaussianNB()\n",
    "\n",
    "# Train your Naive Bayes Classifier \n",
    "nbc.fit(X_train, Y_train)\n",
    "\n",
    "# Predict the scores and store them in a variable nbc_pred\n",
    "nbc_pred=nbc.predict(X_test)\n",
    "\n",
    "#check values\n",
    "#print(nbc_pred)\n",
    "#print(Y_test)"
   ]
  },
  {
   "cell_type": "markdown",
   "metadata": {},
   "source": [
    "##### 3.2 Evaluating Naive Bayes Classifier"
   ]
  },
  {
   "cell_type": "markdown",
   "metadata": {},
   "source": [
    "You will be evluating NBC in this part of your code. You will be three differnt metrics to evaluate NBC. You will make use of \n",
    "nbc_pred and Y_test to calculate these measures.\n",
    "\n",
    "1) Accuracy :- Print the value of the accuracy of your model.\n",
    "\n",
    "2) Confusion Matrix:- Print the confusion matrix for your data.\n",
    "\n",
    "3) ROC characteristic :- You will plot the ROC characteristic of the data. Since ROC characteristics can only be plotted for binary class scenario. You will take into consideration the first class with label 1 as one class . All other classes will be treated as the second class.\n",
    "\n",
    "Hint :-  sklearn.metrics"
   ]
  },
  {
   "cell_type": "code",
   "execution_count": 92,
   "metadata": {},
   "outputs": [
    {
     "name": "stdout",
     "output_type": "stream",
     "text": [
      "0.844913151365\n",
      "[[58  4  0  0  0  0  0  0  0  0  0  0  0  0  0  0  0  0  0  0  0  0  0  0\n",
      "   0  0]\n",
      " [ 3 41  2 10  0  0  2  0  0  2  0  0  0  0  1  0  0  0  0  0  0  0  0  0\n",
      "   1  0]\n",
      " [ 0  2 43  4  1  0  0  0  1  3  0  2  0  0  3  0  0  0  0  0  2  0  0  1\n",
      "   0  0]\n",
      " [ 0  8  4 31  1  0  5  0  0  4  0  0  3  0  0  0  0  0  0  1  0  0  3  2\n",
      "   0  0]\n",
      " [ 0  2  0  0 45  2  0  0  0  0  0  0  2  1  2  0  0  1  0  1  1  0  1  4\n",
      "   0  0]\n",
      " [ 0  1  0  0  1 57  0  0  0  0  0  0  1  1  0  0  0  0  0  0  0  0  1  0\n",
      "   0  0]\n",
      " [ 2  0  0  0  0  0 60  0  0  0  0  0  0  0  0  0  0  0  0  0  0  0  0  0\n",
      "   0  0]\n",
      " [ 0  1  0  0  0  1  0 50  0  0  0  0  0  0  0  5  0  3  0  0  1  0  1  0\n",
      "   0  0]\n",
      " [ 0  0  0  0  0  0  0  0 61  0  0  0  0  0  0  0  0  1  0  0  0  0  0  0\n",
      "   0  0]\n",
      " [ 0  1  0  1  0  0  0  0  0 54  0  0  2  0  1  0  0  0  0  0  0  0  2  1\n",
      "   0  0]\n",
      " [ 0  0  0  0  0  0  0  0  0  0 58  0  0  0  2  0  0  0  0  0  2  0  0  0\n",
      "   0  0]\n",
      " [ 3  0  0  0  0  0  0  0  0  0  0 58  0  0  0  0  0  0  0  0  1  0  0  0\n",
      "   0  0]\n",
      " [ 0  2  0  0  3  4  1  1  0  1  1  0 46  0  2  0  0  0  0  0  0  0  0  1\n",
      "   0  0]\n",
      " [ 0  0  0  5  1  9  3  0  0  0  0  0  4 34  0  0  0  0  0  6  0  0  0  0\n",
      "   0  0]\n",
      " [ 0  3  0  3  0  0  0  0  0  0  0  0  0  0 54  0  0  0  0  0  2  0  0  0\n",
      "   0  0]\n",
      " [ 0  0  0  0  0  0  0  0  0  0  0  0  0  0  0 61  0  1  0  0  0  0  0  0\n",
      "   0  0]\n",
      " [ 0  0  0  0  0  0  0  1  0  0  0  0  0  0  0  1 60  0  0  0  0  0  0  0\n",
      "   0  0]\n",
      " [ 0  0  0  0  0  1  0  0  0  0  0  0  0  1  0  0  3 57  0  0  0  0  0  0\n",
      "   0  0]\n",
      " [ 0  0  0  0  0  0  0  0  0  0  0  0  0  0  0  0  0  0 62  0  0  0  0  0\n",
      "   0  0]\n",
      " [ 0  0  1  1  0  0  1  0  0  0  0  0  0  0  1  2  0  1  0 55  0  0  0  0\n",
      "   0  0]\n",
      " [ 0  0  0  0  0  0  0  0  0  0  0  0  0  0  0  0  0  0  0  0 62  0  0  0\n",
      "   0  0]\n",
      " [ 0  0  0  0  0  0  0  0  0  0  0  0  0  0  0  0  0  0  0  0  0 62  0  0\n",
      "   0  0]\n",
      " [ 0  3  0  5  1  0  0  0  0  0  0  0  1  0  0  0  0  0  0  0  0  0 52  0\n",
      "   0  0]\n",
      " [ 4 14  0  4  0  0  0  0  0  2  0  0  0  0  8  0  0  0  0  0  1  0  0 29\n",
      "   0  0]\n",
      " [ 4  4  0  0  0  0  0  0  0  0  0  0  0  0  0  0  0  0  0  0  0  0  0  0\n",
      "  53  1]\n",
      " [ 0  0  0  0  0  0  0  0  0  0  0  0  0  0  0  0  0  0  0  0  0  3  0  0\n",
      "   0 59]]\n"
     ]
    },
    {
     "data": {
      "image/png": "[encoded data removed]",
      "text/plain": [
       "<matplotlib.figure.Figure at 0x7f6c4105fcc0>"
      ]
     },
     "metadata": {},
     "output_type": "display_data"
    }
   ],
   "source": [
    "# your code starts here \n",
    "\n",
    "# Calculate the accuracy\n",
    "acc = accuracy_score(Y_test, nbc_pred)\n",
    "print(acc)\n",
    "\n",
    "# Print the confusion matrix\n",
    "cnf = confusion_matrix(Y_test, nbc_pred)\n",
    "print(cnf)\n",
    "\n",
    "# Plot the ROC characteristics\n",
    "fpr, tpr, _ = roc_curve(Y_test, nbc_pred, pos_label = 1)\n",
    "\n",
    "plt.plot(fpr, tpr)\n",
    "plt.show()\n"
   ]
  },
  {
   "cell_type": "markdown",
   "metadata": {},
   "source": [
    "#### 4) K-Nearest Neighbors"
   ]
  },
  {
   "cell_type": "markdown",
   "metadata": {},
   "source": [
    "You will be implmenting a Naive Bayes Classifier in this Section. Your task is\n",
    "\n",
    "1) Train a K-Nerest-Neighbors on the training data.\n",
    "\n",
    "2) Test your model to predict the scores of the test data and store it in a variable knn_pred\n",
    "\n",
    "Hint:- sklearn !!!"
   ]
  },
  {
   "cell_type": "code",
   "execution_count": 99,
   "metadata": {
    "collapsed": true
   },
   "outputs": [],
   "source": [
    "# your code starts here \n",
    "from sklearn.neighbors import KNeighborsClassifier\n",
    "knn = KNeighborsClassifier(n_neighbors = 3)\n",
    "\n",
    "# Train the K-Nearest Neighbors classifier\n",
    "knn.fit(X_train, Y_train)\n",
    "\n",
    "# Predict the scores and store them in a variable knn_pred\n",
    "knn_pred=knn.predict(X_test)\n",
    "\n",
    "#check values\n",
    "#print(knn_pred)\n",
    "#print(Y_test)"
   ]
  },
  {
   "cell_type": "markdown",
   "metadata": {},
   "source": [
    "##### 4.2 Evaluating KNN  "
   ]
  },
  {
   "cell_type": "markdown",
   "metadata": {},
   "source": [
    "You will be evluating KNN in this part of your code. You will be three differnt metrics to evaluate KNN. You will make use of nbc_pred and Y_test to calculate these measures.\n",
    "\n",
    "1) Accuracy :- Print the value of the accuracy of your model.\n",
    "\n",
    "2) Confusion Matrix:- Print the confusion matrix for your data.\n",
    "\n",
    "3) ROC characteristic :- You will plot the ROC characteristic of the data. Since ROC characteristics can only be plotted for binary class scenario. You will take into consideration the first class with label 1 as one class . All other classes will be treated as the second class.\n",
    "\n"
   ]
  },
  {
   "cell_type": "code",
   "execution_count": 100,
   "metadata": {},
   "outputs": [
    {
     "name": "stdout",
     "output_type": "stream",
     "text": [
      "0.980148883375\n",
      "[[62  0  0  0  0  0  0  0  0  0  0  0  0  0  0  0  0  0  0  0  0  0  0  0\n",
      "   0  0]\n",
      " [ 0 62  0  0  0  0  0  0  0  0  0  0  0  0  0  0  0  0  0  0  0  0  0  0\n",
      "   0  0]\n",
      " [ 0  0 60  0  0  0  0  0  0  0  0  0  0  0  2  0  0  0  0  0  0  0  0  0\n",
      "   0  0]\n",
      " [ 0  3  3 54  0  0  0  0  0  0  0  0  0  0  0  0  0  0  0  0  0  0  1  1\n",
      "   0  0]\n",
      " [ 0  0  0  0 61  1  0  0  0  0  0  0  0  0  0  0  0  0  0  0  0  0  0  0\n",
      "   0  0]\n",
      " [ 0  0  0  0  1 60  0  0  0  0  0  0  0  1  0  0  0  0  0  0  0  0  0  0\n",
      "   0  0]\n",
      " [ 0  1  0  0  0  0 61  0  0  0  0  0  0  0  0  0  0  0  0  0  0  0  0  0\n",
      "   0  0]\n",
      " [ 0  1  0  0  0  0  0 60  0  0  0  0  0  0  0  1  0  0  0  0  0  0  0  0\n",
      "   0  0]\n",
      " [ 0  0  0  0  0  0  0  0 62  0  0  0  0  0  0  0  0  0  0  0  0  0  0  0\n",
      "   0  0]\n",
      " [ 0  0  1  0  0  0  0  0  0 61  0  0  0  0  0  0  0  0  0  0  0  0  0  0\n",
      "   0  0]\n",
      " [ 0  0  0  0  0  0  0  0  0  0 62  0  0  0  0  0  0  0  0  0  0  0  0  0\n",
      "   0  0]\n",
      " [ 0  0  0  0  0  0  0  0  0  0  0 62  0  0  0  0  0  0  0  0  0  0  0  0\n",
      "   0  0]\n",
      " [ 0  0  0  0  2  0  0  0  0  0  0  0 60  0  0  0  0  0  0  0  0  0  0  0\n",
      "   0  0]\n",
      " [ 0  0  0  1  0  2  0  0  0  0  0  0  1 58  0  0  0  0  0  0  0  0  0  0\n",
      "   0  0]\n",
      " [ 0  0  0  0  0  0  0  0  0  0  0  0  0  0 62  0  0  0  0  0  0  0  0  0\n",
      "   0  0]\n",
      " [ 0  0  0  0  0  1  0  0  0  0  0  0  0  0  0 61  0  0  0  0  0  0  0  0\n",
      "   0  0]\n",
      " [ 0  0  0  1  0  0  0  0  0  0  0  0  0  0  0  0 61  0  0  0  0  0  0  0\n",
      "   0  0]\n",
      " [ 0  0  0  0  0  1  0  0  0  0  0  0  0  0  0  0  0 61  0  0  0  0  0  0\n",
      "   0  0]\n",
      " [ 0  0  0  0  0  0  0  0  0  0  0  0  0  0  0  0  0  0 62  0  0  0  0  0\n",
      "   0  0]\n",
      " [ 0  0  0  0  0  0  0  0  0  0  0  0  0  0  0  0  0  0  0 62  0  0  0  0\n",
      "   0  0]\n",
      " [ 0  0  0  0  0  0  0  0  0  0  0  0  0  0  0  0  0  0  0  0 62  0  0  0\n",
      "   0  0]\n",
      " [ 0  0  0  0  0  0  0  0  0  0  0  0  0  0  0  0  0  0  0  0  0 62  0  0\n",
      "   0  0]\n",
      " [ 0  0  0  0  0  0  0  0  0  0  0  0  0  0  0  0  0  0  0  0  0  0 62  0\n",
      "   0  0]\n",
      " [ 0  1  0  1  2  0  0  0  0  0  0  0  0  0  0  0  0  0  0  0  0  0  0 58\n",
      "   0  0]\n",
      " [ 0  0  0  0  0  0  0  1  0  0  0  0  0  0  0  0  0  0  0  0  0  0  0  0\n",
      "  61  0]\n",
      " [ 0  0  0  0  0  0  0  0  1  0  0  0  0  0  0  0  0  0  0  0  0  0  0  0\n",
      "   0 61]]\n"
     ]
    },
    {
     "data": {
      "image/png": "[encoded data removed]",
      "text/plain": [
       "<matplotlib.figure.Figure at 0x7f6c40f78400>"
      ]
     },
     "metadata": {},
     "output_type": "display_data"
    }
   ],
   "source": [
    "# your code starts here \n",
    "\n",
    "# Calculate the accuracy\n",
    "acc = accuracy_score(Y_test, knn_pred)\n",
    "print(acc)\n",
    "\n",
    "# Print the confusion matrix\n",
    "cnf = confusion_matrix(Y_test, knn_pred)\n",
    "print(cnf)\n",
    "\n",
    "# Plot the ROC characteristics\n",
    "fpr, tpr, _ = roc_curve(Y_test, knn_pred, pos_label = 1)\n",
    "\n",
    "plt.plot(fpr, tpr)\n",
    "plt.show()"
   ]
  },
  {
   "cell_type": "markdown",
   "metadata": {
    "collapsed": true
   },
   "source": [
    "#### 5) Cross Validation for SVM "
   ]
  },
  {
   "cell_type": "markdown",
   "metadata": {},
   "source": [
    "Sometimes, due to lavk of enough training and test data. The training data is split into k-folds. Out of the k folds k-1 are used for training the data and one fold is used for testing the model. The process is carried out untill all the k-folds are not\n",
    "used for evaluating the performance of the model. This process is know as k-fold cross validation. In this section you will be performing a 5-fold cross validation and report the accuracy of the model after 5 fold cross validation. \n",
    "\n",
    "Note: The test data is not required in this case. You will work only on the training data. "
   ]
  },
  {
   "cell_type": "code",
   "execution_count": 124,
   "metadata": {},
   "outputs": [
    {
     "name": "stdout",
     "output_type": "stream",
     "text": [
      "SVM Accuracy: 0.57\n"
     ]
    }
   ],
   "source": [
    "# Your Code starts here \n",
    "from sklearn.model_selection import cross_val_score\n",
    "\n",
    "#Perform 5-fold validation\n",
    "svm_scores = cross_val_score(clf, X_train, Y_train, cv = 5)\n",
    "\n",
    "# Report the accuracy of the model\n",
    "print(\"SVM Accuracy: %0.2f\" % svm_scores.mean())"
   ]
  },
  {
   "cell_type": "code",
   "execution_count": null,
   "metadata": {
    "collapsed": true
   },
   "outputs": [],
   "source": []
  }
 ],
 "metadata": {
  "kernelspec": {
   "display_name": "Python 3",
   "language": "python",
   "name": "python3"
  },
  "language_info": {
   "codemirror_mode": {
    "name": "ipython",
    "version": 3
   },
   "file_extension": ".py",
   "mimetype": "text/x-python",
   "name": "python",
   "nbconvert_exporter": "python",
   "pygments_lexer": "ipython3",
   "version": "3.6.1"
  }
 },
 "nbformat": 4,
 "nbformat_minor": 2
}
